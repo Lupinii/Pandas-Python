{
 "cells": [
  {
   "cell_type": "code",
   "execution_count": 12,
   "id": "e5f0e722-d818-4f8b-817f-725558f33285",
   "metadata": {},
   "outputs": [
    {
     "name": "stdout",
     "output_type": "stream",
     "text": [
      "Channels:\n",
      " - defaults\n",
      "Platform: win-64\n",
      "Collecting package metadata (repodata.json): done\n",
      "Solving environment: done\n",
      "\n",
      "# All requested packages already installed.\n",
      "\n",
      "\n",
      "Note: you may need to restart the kernel to use updated packages.\n"
     ]
    }
   ],
   "source": [
    "conda install fastparquet"
   ]
  },
  {
   "cell_type": "code",
   "execution_count": 21,
   "id": "3341571b-6a9e-4723-aa8c-c141ea46c2fe",
   "metadata": {},
   "outputs": [
    {
     "data": {
      "text/html": [
       "<div>\n",
       "<style scoped>\n",
       "    .dataframe tbody tr th:only-of-type {\n",
       "        vertical-align: middle;\n",
       "    }\n",
       "\n",
       "    .dataframe tbody tr th {\n",
       "        vertical-align: top;\n",
       "    }\n",
       "\n",
       "    .dataframe thead th {\n",
       "        text-align: right;\n",
       "    }\n",
       "</style>\n",
       "<table border=\"1\" class=\"dataframe\">\n",
       "  <thead>\n",
       "    <tr style=\"text-align: right;\">\n",
       "      <th></th>\n",
       "      <th>Day</th>\n",
       "      <th>Coffee Type</th>\n",
       "      <th>Units Sold</th>\n",
       "    </tr>\n",
       "  </thead>\n",
       "  <tbody>\n",
       "    <tr>\n",
       "      <th>0</th>\n",
       "      <td>Monday</td>\n",
       "      <td>Espresso</td>\n",
       "      <td>25</td>\n",
       "    </tr>\n",
       "    <tr>\n",
       "      <th>1</th>\n",
       "      <td>Monday</td>\n",
       "      <td>Latte</td>\n",
       "      <td>15</td>\n",
       "    </tr>\n",
       "    <tr>\n",
       "      <th>2</th>\n",
       "      <td>Tuesday</td>\n",
       "      <td>Espresso</td>\n",
       "      <td>30</td>\n",
       "    </tr>\n",
       "    <tr>\n",
       "      <th>3</th>\n",
       "      <td>Tuesday</td>\n",
       "      <td>Latte</td>\n",
       "      <td>20</td>\n",
       "    </tr>\n",
       "    <tr>\n",
       "      <th>4</th>\n",
       "      <td>Wednesday</td>\n",
       "      <td>Espresso</td>\n",
       "      <td>35</td>\n",
       "    </tr>\n",
       "    <tr>\n",
       "      <th>5</th>\n",
       "      <td>Wednesday</td>\n",
       "      <td>Latte</td>\n",
       "      <td>25</td>\n",
       "    </tr>\n",
       "    <tr>\n",
       "      <th>6</th>\n",
       "      <td>Thursday</td>\n",
       "      <td>Espresso</td>\n",
       "      <td>40</td>\n",
       "    </tr>\n",
       "    <tr>\n",
       "      <th>7</th>\n",
       "      <td>Thursday</td>\n",
       "      <td>Latte</td>\n",
       "      <td>30</td>\n",
       "    </tr>\n",
       "    <tr>\n",
       "      <th>8</th>\n",
       "      <td>Friday</td>\n",
       "      <td>Espresso</td>\n",
       "      <td>45</td>\n",
       "    </tr>\n",
       "    <tr>\n",
       "      <th>9</th>\n",
       "      <td>Friday</td>\n",
       "      <td>Latte</td>\n",
       "      <td>35</td>\n",
       "    </tr>\n",
       "    <tr>\n",
       "      <th>10</th>\n",
       "      <td>Saturday</td>\n",
       "      <td>Espresso</td>\n",
       "      <td>45</td>\n",
       "    </tr>\n",
       "    <tr>\n",
       "      <th>11</th>\n",
       "      <td>Saturday</td>\n",
       "      <td>Latte</td>\n",
       "      <td>35</td>\n",
       "    </tr>\n",
       "    <tr>\n",
       "      <th>12</th>\n",
       "      <td>Sunday</td>\n",
       "      <td>Espresso</td>\n",
       "      <td>45</td>\n",
       "    </tr>\n",
       "    <tr>\n",
       "      <th>13</th>\n",
       "      <td>Sunday</td>\n",
       "      <td>Latte</td>\n",
       "      <td>35</td>\n",
       "    </tr>\n",
       "  </tbody>\n",
       "</table>\n",
       "</div>"
      ],
      "text/plain": [
       "          Day Coffee Type  Units Sold\n",
       "0      Monday    Espresso          25\n",
       "1      Monday       Latte          15\n",
       "2     Tuesday    Espresso          30\n",
       "3     Tuesday       Latte          20\n",
       "4   Wednesday    Espresso          35\n",
       "5   Wednesday       Latte          25\n",
       "6    Thursday    Espresso          40\n",
       "7    Thursday       Latte          30\n",
       "8      Friday    Espresso          45\n",
       "9      Friday       Latte          35\n",
       "10   Saturday    Espresso          45\n",
       "11   Saturday       Latte          35\n",
       "12     Sunday    Espresso          45\n",
       "13     Sunday       Latte          35"
      ]
     },
     "execution_count": 21,
     "metadata": {},
     "output_type": "execute_result"
    }
   ],
   "source": [
    "import pandas as pd\n",
    "coffee = pd.read_csv('coffee.csv')\n",
    "coffee"
   ]
  },
  {
   "cell_type": "markdown",
   "id": "f2bb156b-3286-4ba1-bbeb-ed9fe3843b73",
   "metadata": {},
   "source": [
    "<h3>Accessing data | .loc() & iloc()</h3>"
   ]
  },
  {
   "cell_type": "markdown",
   "id": "e63b7860-293e-4998-94d1-b0724ab128f1",
   "metadata": {},
   "source": [
    "<h5 style='color:green;'>.loc()</h5>"
   ]
  },
  {
   "cell_type": "code",
   "execution_count": 27,
   "id": "70a4d3ab-6815-4295-9a05-a34485b4481c",
   "metadata": {},
   "outputs": [
    {
     "data": {
      "text/html": [
       "<div>\n",
       "<style scoped>\n",
       "    .dataframe tbody tr th:only-of-type {\n",
       "        vertical-align: middle;\n",
       "    }\n",
       "\n",
       "    .dataframe tbody tr th {\n",
       "        vertical-align: top;\n",
       "    }\n",
       "\n",
       "    .dataframe thead th {\n",
       "        text-align: right;\n",
       "    }\n",
       "</style>\n",
       "<table border=\"1\" class=\"dataframe\">\n",
       "  <thead>\n",
       "    <tr style=\"text-align: right;\">\n",
       "      <th></th>\n",
       "      <th>Day</th>\n",
       "    </tr>\n",
       "  </thead>\n",
       "  <tbody>\n",
       "    <tr>\n",
       "      <th>0</th>\n",
       "      <td>Monday</td>\n",
       "    </tr>\n",
       "    <tr>\n",
       "      <th>1</th>\n",
       "      <td>Monday</td>\n",
       "    </tr>\n",
       "    <tr>\n",
       "      <th>5</th>\n",
       "      <td>Wednesday</td>\n",
       "    </tr>\n",
       "  </tbody>\n",
       "</table>\n",
       "</div>"
      ],
      "text/plain": [
       "         Day\n",
       "0     Monday\n",
       "1     Monday\n",
       "5  Wednesday"
      ]
     },
     "execution_count": 27,
     "metadata": {},
     "output_type": "execute_result"
    }
   ],
   "source": [
    "# used to select rows and columns by name (not by number).\n",
    "coffee.loc[[0,1,5], ['Day']]\n",
    "# coffee.loc[0:33]\n",
    "# coffee.loc[5:12]"
   ]
  },
  {
   "cell_type": "code",
   "execution_count": null,
   "id": "f34faf0c-9da5-4496-98cd-b17679e52d3f",
   "metadata": {},
   "outputs": [],
   "source": []
  },
  {
   "cell_type": "code",
   "execution_count": null,
   "id": "691abc69-95ad-49e0-88fb-cd2d0f2146b1",
   "metadata": {},
   "outputs": [],
   "source": []
  },
  {
   "cell_type": "markdown",
   "id": "77764b2e-f0ac-480c-b1c2-aee0fdd5c5e4",
   "metadata": {},
   "source": [
    "<h3>Setting DataFrame Values | w/loc() & iloc()</h3>"
   ]
  },
  {
   "cell_type": "code",
   "execution_count": null,
   "id": "a8ea696e-effa-4e04-a81d-3f8d359c7cda",
   "metadata": {},
   "outputs": [],
   "source": []
  },
  {
   "cell_type": "markdown",
   "id": "dc14ab46-fa0c-4b90-8d54-f7b206b02767",
   "metadata": {},
   "source": [
    "<h3>Accessing Single Values | .at() & .iat()</h3>"
   ]
  },
  {
   "cell_type": "code",
   "execution_count": null,
   "id": "24009c9a-c2e8-4b51-9abd-3c8776209882",
   "metadata": {},
   "outputs": [],
   "source": []
  },
  {
   "cell_type": "markdown",
   "id": "e5874cd9-dde2-4a15-9246-edcca4ac290b",
   "metadata": {},
   "source": [
    "<h3>Accessing Data | Grab Columns, Sort Values, Ascending/Descending</h3>"
   ]
  },
  {
   "cell_type": "code",
   "execution_count": null,
   "id": "bacf1ba8-b959-4955-8dd5-2e44dcee37e8",
   "metadata": {},
   "outputs": [],
   "source": []
  },
  {
   "cell_type": "markdown",
   "id": "19001659-3814-4601-bcdd-87ff4e2a2693",
   "metadata": {},
   "source": [
    "<h3>Iterating over a DataFrame (df) with a For Loop   df.iterrows()</h3>"
   ]
  },
  {
   "cell_type": "code",
   "execution_count": null,
   "id": "b22c1351-e867-4faf-954c-5abd7717554b",
   "metadata": {},
   "outputs": [],
   "source": []
  },
  {
   "cell_type": "markdown",
   "id": "e34db851-5788-4e67-aba5-7c9eb3eee81c",
   "metadata": {},
   "source": [
    "<h3>Filtering Data | Syntax Options, Numeric Values, Multiple Conditions</h3>"
   ]
  },
  {
   "cell_type": "code",
   "execution_count": null,
   "id": "53c8e194-de3b-4d17-970d-ae3f3bc63fca",
   "metadata": {},
   "outputs": [],
   "source": []
  },
  {
   "cell_type": "markdown",
   "id": "6cc648b5-ed78-4efc-824c-029d8e22f743",
   "metadata": {},
   "source": [
    "<h3>Filtering Data | String Operations, Regular Expressions(Regex)</h3>"
   ]
  },
  {
   "cell_type": "code",
   "execution_count": null,
   "id": "28fa35e9-b258-4d22-8a07-278e0b9b79b5",
   "metadata": {},
   "outputs": [],
   "source": []
  },
  {
   "cell_type": "markdown",
   "id": "12d06c72-ae47-4e4d-834d-2e3ee2d0c39a",
   "metadata": {},
   "source": [
    "<h3>Filtering Data | Query Functions</h3>"
   ]
  },
  {
   "cell_type": "code",
   "execution_count": null,
   "id": "4fc00df0-a89b-43f9-9dca-8e9e7296da99",
   "metadata": {},
   "outputs": [],
   "source": []
  },
  {
   "cell_type": "markdown",
   "id": "c8a9595d-a4f2-4c9d-82e1-6b28ab024277",
   "metadata": {},
   "source": [
    "<h3>Adding / Removing Columns | Basics, Conditional Values, Math Operations, Renaming Columns</h3>"
   ]
  },
  {
   "cell_type": "code",
   "execution_count": null,
   "id": "33a176ab-a77a-4b9a-9122-3b486b5a0c2c",
   "metadata": {},
   "outputs": [],
   "source": []
  },
  {
   "cell_type": "markdown",
   "id": "1125af34-9488-483b-b94e-092d828db6c6",
   "metadata": {},
   "source": [
    "<h3>Adding / Removing Columns | String Operations, Datetime (pd.to_datetime) Operations</h3>"
   ]
  },
  {
   "cell_type": "code",
   "execution_count": null,
   "id": "4ee687ce-bcc1-4b9a-b78f-889112f30f90",
   "metadata": {},
   "outputs": [],
   "source": []
  },
  {
   "cell_type": "markdown",
   "id": "72091721-f626-46a5-9ac0-40c7790e5e36",
   "metadata": {},
   "source": [
    "<h3>Saving our Updated DataFrame (df.to_csv, df.to_excel, df.to_parquet, etc)</h3>"
   ]
  },
  {
   "cell_type": "code",
   "execution_count": null,
   "id": "b0ef6685-109e-4568-b9bf-5e9102dca95a",
   "metadata": {},
   "outputs": [],
   "source": []
  },
  {
   "cell_type": "markdown",
   "id": "e1bd221f-6ec8-41b3-8b19-4a3b6742f616",
   "metadata": {},
   "source": [
    "<h3>Adding / Removing Columns | Using Lambda & Custom Funtions w/ .apply()</h3>"
   ]
  },
  {
   "cell_type": "code",
   "execution_count": null,
   "id": "fc7cfc85-1c31-4fef-a6fd-647dd6074122",
   "metadata": {},
   "outputs": [],
   "source": []
  },
  {
   "cell_type": "markdown",
   "id": "4ee1a881-32e0-4d40-b810-fdb61c12ffa4",
   "metadata": {},
   "source": [
    "<h3>Merging & Concatebating Data | pd.merge(), pd.concat(), types of joins</h3>"
   ]
  },
  {
   "cell_type": "code",
   "execution_count": null,
   "id": "f58869fd-7751-4c7c-a8db-54b1b074d560",
   "metadata": {},
   "outputs": [],
   "source": []
  },
  {
   "cell_type": "markdown",
   "id": "efeebf43-6b76-414b-84ce-a84f82a3c498",
   "metadata": {},
   "source": [
    "<h3>Handling Null Values(NaNs) | .fillna() .interpolate() .drop() .isna() .notna()</h3>"
   ]
  },
  {
   "cell_type": "code",
   "execution_count": null,
   "id": "b295e0eb-cde1-4999-9442-a4f4024fcaa1",
   "metadata": {},
   "outputs": [],
   "source": []
  },
  {
   "cell_type": "markdown",
   "id": "0e51a44e-4213-481e-a50d-8f2a362cfaa2",
   "metadata": {},
   "source": [
    "<h3>Aggregating Data | value_counts()</h3>"
   ]
  },
  {
   "cell_type": "code",
   "execution_count": null,
   "id": "53a50deb-0e5b-4db2-987c-2a9f7c5764c7",
   "metadata": {},
   "outputs": [],
   "source": []
  },
  {
   "cell_type": "markdown",
   "id": "dd640cf5-07da-4ea0-928e-accdfdaab7b0",
   "metadata": {},
   "source": [
    "<h3>Aggregating Data | Using Groupby - groupby() .sum() .mean() .agg()</h3>"
   ]
  },
  {
   "cell_type": "code",
   "execution_count": null,
   "id": "607f8e18-c969-46ca-9db1-8ae769ce2aff",
   "metadata": {},
   "outputs": [],
   "source": []
  },
  {
   "cell_type": "markdown",
   "id": "8d2644f7-9621-499d-b5ce-7bbe3c8fd5a4",
   "metadata": {},
   "source": [
    "<h3>Aggregating Data | Pivot Tables</h3>"
   ]
  },
  {
   "cell_type": "code",
   "execution_count": null,
   "id": "daa25505-7a35-4d5a-a893-fbc3c1141137",
   "metadata": {},
   "outputs": [],
   "source": []
  },
  {
   "cell_type": "markdown",
   "id": "e13c9290-a1e4-450a-949f-6abd21f5cb2a",
   "metadata": {},
   "source": [
    "<h3>Groupby combined with Datetime Operations</h3>"
   ]
  },
  {
   "cell_type": "code",
   "execution_count": null,
   "id": "2de190cc-6726-4016-9346-36662aa4198b",
   "metadata": {},
   "outputs": [],
   "source": []
  },
  {
   "cell_type": "markdown",
   "id": "6a471d29-7110-46c8-b414-dff33bc8efbd",
   "metadata": {},
   "source": [
    "<h3>Added Functionality | .shift() .rank() .cumsum() .rolling()</h3>"
   ]
  },
  {
   "cell_type": "code",
   "execution_count": null,
   "id": "9d0f8a7e-39f1-4298-b3f8-96f538f7afd7",
   "metadata": {},
   "outputs": [],
   "source": []
  },
  {
   "cell_type": "markdown",
   "id": "9cf7d503-2c0c-42ea-8234-3d320b42f96e",
   "metadata": {},
   "source": [
    "<h3>New Functionality | Pandas 1.0 vs Pandas 2.0 pyarrow</h3>"
   ]
  },
  {
   "cell_type": "code",
   "execution_count": null,
   "id": "164ec4cd-a58d-44e9-a982-c7e196d228d1",
   "metadata": {},
   "outputs": [],
   "source": []
  },
  {
   "cell_type": "markdown",
   "id": "c8ed9dee-e1f9-439c-bfaa-74c627f96da0",
   "metadata": {},
   "source": []
  },
  {
   "cell_type": "code",
   "execution_count": null,
   "id": "302e5ed5-71be-40f3-9436-0e0265ad87ec",
   "metadata": {},
   "outputs": [],
   "source": []
  },
  {
   "cell_type": "markdown",
   "id": "8fed4616-f2e6-4466-a5cb-a601dfb1354d",
   "metadata": {},
   "source": []
  },
  {
   "cell_type": "code",
   "execution_count": null,
   "id": "f9322fd4-f108-41b1-be18-0374816938d4",
   "metadata": {},
   "outputs": [],
   "source": []
  },
  {
   "cell_type": "markdown",
   "id": "39902c99-d2eb-41f3-a5a5-0e81ad7e4322",
   "metadata": {},
   "source": []
  },
  {
   "cell_type": "code",
   "execution_count": null,
   "id": "0351ccc5-b7d6-4549-bee1-8d41adece21e",
   "metadata": {},
   "outputs": [],
   "source": []
  },
  {
   "cell_type": "code",
   "execution_count": null,
   "id": "bd72f42b-397c-4624-ab9e-9aedcca59f82",
   "metadata": {},
   "outputs": [],
   "source": [
    "O"
   ]
  },
  {
   "cell_type": "code",
   "execution_count": null,
   "id": "abda7a5b-77d1-4d9e-87ce-a36cc7a69a36",
   "metadata": {},
   "outputs": [],
   "source": [
    "results = pd.read_parquet('results.parquet')\n",
    "results"
   ]
  },
  {
   "cell_type": "code",
   "execution_count": null,
   "id": "a9925ce6-78af-480b-b338-e075c2fcaaf2",
   "metadata": {},
   "outputs": [],
   "source": []
  }
 ],
 "metadata": {
  "kernelspec": {
   "display_name": "Python 3 (ipykernel)",
   "language": "python",
   "name": "python3"
  },
  "language_info": {
   "codemirror_mode": {
    "name": "ipython",
    "version": 3
   },
   "file_extension": ".py",
   "mimetype": "text/x-python",
   "name": "python",
   "nbconvert_exporter": "python",
   "pygments_lexer": "ipython3",
   "version": "3.13.2"
  }
 },
 "nbformat": 4,
 "nbformat_minor": 5
}
